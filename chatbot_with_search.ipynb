{
 "cells": [
  {
   "cell_type": "markdown",
   "metadata": {},
   "source": [
    "ERROR: pip's dependency resolver does not currently take into account all the packages that are installed. This behaviour is the source of the following dependency conflicts.\n",
    "\n",
    "botocore 1.14.17 requires urllib3<1.26,>=1.20; python_version != \"3.4\", but you have urllib3 2.2.3 which is incompatible.\n",
    "\n",
    "aiobotocore 2.7.0 requires botocore<1.31.65,>=1.31.16, but you have botocore 1.14.17 which is incompatible.\n",
    "\n",
    "Got the above when I installed "
   ]
  },
  {
   "cell_type": "code",
   "execution_count": 1,
   "metadata": {},
   "outputs": [
    {
     "data": {
      "text/plain": [
       "{'query': \"What's a 'node' in LangGraph?\",\n",
       " 'follow_up_questions': None,\n",
       " 'answer': None,\n",
       " 'images': [],\n",
       " 'results': [{'title': \"Introduction to LangGraph: A Beginner's Guide - Medium\",\n",
       "   'url': 'https://medium.com/@cplog/introduction-to-langgraph-a-beginners-guide-14f9be027141',\n",
       "   'content': 'Stateful Graph: LangGraph revolves around the concept of a stateful graph, where each node in the graph represents a step in your computation, and the graph maintains a state that is passed around and updated as the computation progresses. LangGraph supports conditional edges, allowing you to dynamically determine the next node to execute based on the current state of the graph. We define nodes for classifying the input, handling greetings, and handling search queries. def classify_input_node(state): LangGraph is a versatile tool for building complex, stateful applications with LLMs. By understanding its core concepts and working through simple examples, beginners can start to leverage its power for their projects. Remember to pay attention to state management, conditional edges, and ensuring there are no dead-end nodes in your graph.',\n",
       "   'score': 0.7065353,\n",
       "   'raw_content': None},\n",
       "  {'title': 'LangGraph Basics: Understanding State, Schema, Nodes, and Edges',\n",
       "   'url': 'https://medium.com/@vivekvjnk/langgraph-basics-understanding-state-schema-nodes-and-edges-77f2fd17cae5',\n",
       "   'content': 'LangGraph Basics: Understanding State, Schema, Nodes, and Edges | by Story_Teller | Medium LangGraph Basics: Understanding State, Schema, Nodes, and Edges LangGraph Basics: Understanding State, Schema, Nodes, and Edges These predefined structures in the messaging app are synonymous with the schema of the state in LangGraph. Just as a messaging app ensures all interactions (messages) follow a consistent format, the schema in LangGraph ensures the state passed along edges is structured and interpretable. This static schema allows nodes to rely on a consistent state format, ensuring seamless communication along edges throughout the graph. In this article, we explored the foundational concepts of graph-based systems, drawing parallels to familiar messaging applications to illustrate how edges, nodes, and state transitions function seamlessly in dynamic workflows.',\n",
       "   'score': 0.6501347,\n",
       "   'raw_content': None}],\n",
       " 'response_time': 2.09}"
      ]
     },
     "execution_count": 1,
     "metadata": {},
     "output_type": "execute_result"
    }
   ],
   "source": [
    "from langchain_tavily import TavilySearch\n",
    "\n",
    "tool = TavilySearch(max_results=2)\n",
    "tools = [tool]\n",
    "tool.invoke(\"What's a 'node' in LangGraph?\")"
   ]
  },
  {
   "cell_type": "code",
   "execution_count": 8,
   "metadata": {},
   "outputs": [
    {
     "data": {
      "text/plain": [
       "<langgraph.graph.state.StateGraph at 0x7ea3b14bac00>"
      ]
     },
     "execution_count": 8,
     "metadata": {},
     "output_type": "execute_result"
    }
   ],
   "source": [
    "from typing import Annotated\n",
    "\n",
    "from langchain.chat_models import init_chat_model\n",
    "from typing_extensions import TypedDict\n",
    "\n",
    "from langgraph.graph import StateGraph, START, END\n",
    "from langgraph.graph.message import add_messages\n",
    "\n",
    "\n",
    "class State(TypedDict):\n",
    "    messages: Annotated[list, add_messages]\n",
    "\n",
    "\n",
    "graph_builder = StateGraph(State)\n",
    "\n",
    "\n",
    "llm = init_chat_model(\"anthropic:claude-3-5-haiku-latest\")\n",
    "# llm = init_chat_model(\"gpt-4.1-mini\", model_provider=\"openai\", temperature=0)\n",
    "\n",
    "# Modification: tell the LLM which tools it can call\n",
    "llm_with_tools = llm.bind_tools(tools)\n",
    "\n",
    "\n",
    "def chatbot(state: State):\n",
    "    return {\"messages\": [llm_with_tools.invoke(state[\"messages\"])]}\n",
    "\n",
    "\n",
    "graph_builder.add_node(\"chatbot\", chatbot)"
   ]
  },
  {
   "cell_type": "code",
   "execution_count": 9,
   "metadata": {},
   "outputs": [
    {
     "data": {
      "text/plain": [
       "<langgraph.graph.state.StateGraph at 0x7ea3b14bac00>"
      ]
     },
     "execution_count": 9,
     "metadata": {},
     "output_type": "execute_result"
    }
   ],
   "source": [
    "import json\n",
    "\n",
    "from langchain_core.messages import ToolMessage\n",
    "\n",
    "\n",
    "class BasicToolNode:\n",
    "    \"\"\"A node that runs the tools requested in the last AIMessage.\"\"\"\n",
    "\n",
    "    def __init__(self, tools: list) -> None:\n",
    "        self.tools_by_name = {tool.name: tool for tool in tools}\n",
    "\n",
    "    def __call__(self, inputs: dict):\n",
    "        if messages := inputs.get(\"messages\", []):\n",
    "            message = messages[-1]\n",
    "        else:\n",
    "            raise ValueError(\"No message found in input\")\n",
    "        outputs = []\n",
    "        for tool_call in message.tool_calls:\n",
    "            tool_result = self.tools_by_name[tool_call[\"name\"]].invoke(\n",
    "                tool_call[\"args\"]\n",
    "            )\n",
    "            outputs.append(\n",
    "                ToolMessage(\n",
    "                    content=json.dumps(tool_result),\n",
    "                    name=tool_call[\"name\"],\n",
    "                    tool_call_id=tool_call[\"id\"],\n",
    "                )\n",
    "            )\n",
    "        return {\"messages\": outputs}\n",
    "\n",
    "\n",
    "tool_node = BasicToolNode(tools=[tool])\n",
    "graph_builder.add_node(\"tools\", tool_node)"
   ]
  },
  {
   "cell_type": "code",
   "execution_count": 10,
   "metadata": {},
   "outputs": [],
   "source": [
    "def route_tools(\n",
    "    state: State,\n",
    "):\n",
    "    \"\"\"\n",
    "    Use in the conditional_edge to route to the ToolNode if the last message\n",
    "    has tool calls. Otherwise, route to the end.\n",
    "    \"\"\"\n",
    "    if isinstance(state, list):\n",
    "        ai_message = state[-1]\n",
    "    elif messages := state.get(\"messages\", []):\n",
    "        ai_message = messages[-1]\n",
    "    else:\n",
    "        raise ValueError(f\"No messages found in input state to tool_edge: {state}\")\n",
    "    if hasattr(ai_message, \"tool_calls\") and len(ai_message.tool_calls) > 0:\n",
    "        return \"tools\"\n",
    "    return END\n",
    "\n",
    "\n",
    "# The `tools_condition` function returns \"tools\" if the chatbot asks to use a tool, and \"END\" if\n",
    "# it is fine directly responding. This conditional routing defines the main agent loop.\n",
    "graph_builder.add_conditional_edges(\n",
    "    \"chatbot\",\n",
    "    route_tools,\n",
    "    # The following dictionary lets you tell the graph to interpret the condition's outputs as a specific node\n",
    "    # It defaults to the identity function, but if you\n",
    "    # want to use a node named something else apart from \"tools\",\n",
    "    # You can update the value of the dictionary to something else\n",
    "    # e.g., \"tools\": \"my_tools\"\n",
    "    {\"tools\": \"tools\", END: END},\n",
    ")\n",
    "# Any time a tool is called, we return to the chatbot to decide the next step\n",
    "graph_builder.add_edge(\"tools\", \"chatbot\")\n",
    "graph_builder.add_edge(START, \"chatbot\")\n",
    "graph = graph_builder.compile()"
   ]
  },
  {
   "cell_type": "code",
   "execution_count": 11,
   "metadata": {},
   "outputs": [
    {
     "data": {
      "image/png": "[encoded data removed]",
      "text/plain": [
       "<IPython.core.display.Image object>"
      ]
     },
     "metadata": {},
     "output_type": "display_data"
    }
   ],
   "source": [
    "from IPython.display import Image, display\n",
    "\n",
    "try:\n",
    "    display(Image(graph.get_graph().draw_mermaid_png()))\n",
    "except Exception:\n",
    "    # This requires some extra dependencies and is optional\n",
    "    pass"
   ]
  },
  {
   "cell_type": "code",
   "execution_count": 12,
   "metadata": {},
   "outputs": [
    {
     "name": "stdout",
     "output_type": "stream",
     "text": [
      "Assistant: [{'text': 'Let me search for the most recent Bank of America Q1 earnings information.', 'type': 'text'}, {'id': 'toolu_01Q9A2yciLBboHU9mmjdJJUy', 'input': {'query': 'Bank of America Q1 2024 earnings results', 'topic': 'finance', 'time_range': 'month'}, 'name': 'tavily_search', 'type': 'tool_use'}]\n",
      "Assistant: {\"query\": \"Bank of America Q1 2024 earnings results\", \"follow_up_questions\": null, \"answer\": null, \"images\": [], \"results\": [{\"title\": \"Bank of America CEO Warned the Economy May Be Changing: Should ...\", \"url\": \"https://finance.yahoo.com/news/bank-america-ceo-warned-economy-160404483.html\", \"content\": \"Finance New on Yahoo Yahoo Finance CEO Brian Moynihan noted that the bank\\u2019s overall results were \\u201cgood\\u201d as net interest income rose to $14.4 billion because of lower deposit costs and higher-yielding investments. Learn More: 4 Mistakes the Upper Middle Class Are Making With Their Money in the Trump Economy Financial experts generally recommend that individuals build an emergency fund, review their budgets, limit discretionary spending, and pay down high-interest debt. 6 Used Luxury SUVs That Are a Good Investment for Retirees 6 Popular SUVs That Aren't Worth the Cost -- and 6 Affordable Alternatives This article originally appeared on GOBankingRates.com: Bank of America CEO Warned the Economy May Be Changing: Should Consumers Be Worried?\", \"score\": 0.98582, \"raw_content\": null}, {\"title\": \"Bank of America Surpasses Estimates as CEO Notes ... - Investopedia\", \"url\": \"https://www.investopedia.com/bank-of-america-q1-fy2025-earnings-11714904\", \"content\": \"Best Investment Apps Best Money Market Accounts Best Bank Account Bonuses Best Small Business Bank Accounts Best Investment Apps Best Money Market Accounts Best Bank Account Bonuses Best Small Business Bank Accounts Aaron McDade is a breaking news reporter for Investopedia. JPMorgan Chase Tops Q1 Estimates as CEO Dimon Warns of 'Considerable Turbulence' Wells Fargo Reports Better-than-Expected Q1 Earnings Delta Stock Surges as Q1 Results Top Estimates Despite 'Largely Stalled' Growth Goldman Sachs Results Mostly Top Estimates in 'Markedly Different' Environment BlackRock CEO Fink Says 'Uncertainty and Anxiety' Dominate Client Conversations Here Are Three Things To Watch for in Big Bank Earnings What Analysts Think of Delta Air Lines Stock Ahead of Earnings Atkins Parent Simply Good Foods' Stock Surges on Strong Results, Outlook\", \"score\": 0.98196, \"raw_content\": null}], \"response_time\": 1.66}\n",
      "Assistant: [{'text': 'Let me do another search to get more specific details about the earnings.', 'type': 'text'}, {'id': 'toolu_01WsUEBzxh4yNmHhtocAAgKm', 'input': {'query': 'Bank of America Q1 2024 financial results net income detailed breakdown', 'topic': 'finance'}, 'name': 'tavily_search', 'type': 'tool_use'}]\n",
      "Assistant: {\"query\": \"Bank of America Q1 2024 financial results net income detailed breakdown\", \"follow_up_questions\": null, \"answer\": null, \"images\": [], \"results\": [{\"title\": \"Bank of America Surpasses Estimates as CEO Notes ... - Investopedia\", \"url\": \"https://www.investopedia.com/bank-of-america-q1-fy2025-earnings-11714904\", \"content\": \"Best Investment Apps Best Money Market Accounts Best Bank Account Bonuses Best Small Business Bank Accounts Best Investment Apps Best Money Market Accounts Best Bank Account Bonuses Best Small Business Bank Accounts Aaron McDade is a breaking news reporter for Investopedia. JPMorgan Chase Tops Q1 Estimates as CEO Dimon Warns of 'Considerable Turbulence' Wells Fargo Reports Better-than-Expected Q1 Earnings Delta Stock Surges as Q1 Results Top Estimates Despite 'Largely Stalled' Growth Goldman Sachs Results Mostly Top Estimates in 'Markedly Different' Environment BlackRock CEO Fink Says 'Uncertainty and Anxiety' Dominate Client Conversations Here Are Three Things To Watch for in Big Bank Earnings What Analysts Think of Delta Air Lines Stock Ahead of Earnings Atkins Parent Simply Good Foods' Stock Surges on Strong Results, Outlook\", \"score\": 0.98588, \"raw_content\": null}, {\"title\": \"Bank of America Corporation (BAC) Income Statement - Yahoo Finance\", \"url\": \"https://finance.yahoo.com/quote/BAC/financials/\", \"content\": \"Bank of America Corporation (BAC) Income Statement - Yahoo Finance Health Health Health Health news Stock Market Stocks: Most Actives Stocks: Gainers Stocks: Losers Futures Currencies Options: Highest Open Interest Trending Stocks Trade This Way Fantasy New on Yahoo Yahoo Finance Yahoo Finance Health Health Fantasy New on Yahoo Stock Market Stocks: Most Actives Stocks: Gainers Stocks: Losers Futures Currencies Options: Highest Open Interest Trending Stocks Trade This Way Bank of America Corporation (BAC) Income Statement Interest Income after Provision for Loan Loss Total Money Market Investments Perform in-depth fundamental analysis with decades of income statements, balance sheets, and cash flows \\u2014 all exportable. Financial News S&P Futures 6,087.00 +14.25 (+0.23%) Sign in to access your portfolio Ad Terms Feedback\", \"score\": 0.98419, \"raw_content\": null}], \"response_time\": 1.74}\n",
      "Assistant: [{'text': 'Let me do one more search to get the most recent earnings details:', 'type': 'text'}, {'id': 'toolu_01RzTXCAxhWSkeRbRmw4x2yf', 'input': {'query': 'Bank of America Q1 2024 earnings net income total revenue', 'time_range': 'month', 'topic': 'finance'}, 'name': 'tavily_search', 'type': 'tool_use'}]\n",
      "Assistant: {\"query\": \"Bank of America Q1 2024 earnings net income total revenue\", \"follow_up_questions\": null, \"answer\": null, \"images\": [], \"results\": [{\"title\": \"The Economy Is on Solid Footing Despite Tariff Turmoil, Bank of America ...\", \"url\": \"https://www.investopedia.com/the-economy-is-on-solid-footing-despite-tariff-turmoil-bank-of-america-ceo-says-11715489\", \"content\": \"Best Bank Account Bonuses Best Small Business Bank Accounts Best Bank Account Bonuses Best Small Business Bank Accounts Moynihan on the company's first-quarter earnings call Tuesday morning said the bank's research team \\\"does not currently believe we\\u2019ll see a recession in 2025,\\u201d though it has lowered its growth rate estimates for US gross domestic product. Bank of America Surpasses Estimates as CEO Notes Possible 'Changing Economy' Delta Stock Surges as Q1 Results Top Estimates Despite 'Largely Stalled' Growth Here Are Three Things To Watch for in Big Bank Earnings American Express Tops Estimates as Consumers Continue Spending United Airlines Stock Jumps as Revenue Hits Record High Wells Fargo Reports Better-than-Expected Q1 Earnings Automotive Safety Firm Autoliv's Stock Soars as Profit Handily Tops Estimates TSMC Results Top Estimates, Chipmaker Sticks With Outlook\", \"score\": 0.98522, \"raw_content\": null}, {\"title\": \"BofA's Moynihan says 'we potentially face a changing economy' after ...\", \"url\": \"https://finance.yahoo.com/news/bofas-moynihan-says-we-potentially-face-a-changing-economy-after-stock-traders-post-record-haul-112048249.html\", \"content\": \"News \\u2022 7 hours ago Netflix stock rose after the company beat on earnings, fueling Wall Street hopes it could be a safe haven amid tariff shocks News \\u2022 2 days ago Stock market today: Dow, S&P 500, Nasdaq futures fall as Nvidia reveals costly limits on China exports Breaking News \\u2022 2 days ago Stocks edge higher after back-to-back rallies with Trump's latest tariff moves in focus News \\u2022 3 days ago Trump says he's 'looking at something' to help car companies with tariffs Breaking News \\u2022 3 days ago Stocks surge as Apple leads way higher after tech's tariff reprieve News \\u2022 4 days ago Market chaos signals 'sell America' trade as Trump tariff whipsaw threatens to upend the US economy's soft landing\", \"score\": 0.98111, \"raw_content\": null}], \"response_time\": 1.7}\n",
      "Assistant: Based on the search results, I can provide some insights about Bank of America's Q1 2024 earnings:\n",
      "\n",
      "1. Net Interest Income: Bank of America reported net interest income of $14.4 billion in Q1 2024, which increased due to lower deposit costs and higher-yielding investments.\n",
      "\n",
      "2. Performance: The bank surpassed earnings estimates, with CEO Brian Moynihan describing the overall results as \"good\".\n",
      "\n",
      "3. Economic Outlook: During the earnings call, Moynihan noted that the bank's research team does not currently believe there will be a recession in 2025, though they have lowered their GDP growth rate estimates.\n",
      "\n",
      "However, I apologize that I couldn't find the exact net income figure for Q1. For the most precise and up-to-date earnings numbers, I recommend checking Bank of America's official investor relations website or their detailed earnings report, as financial figures can change quickly and require the most recent official source.\n",
      "\n",
      "Would you like me to help you find more specific details about their Q1 earnings?\n",
      "Goodbye!\n"
     ]
    }
   ],
   "source": [
    "def stream_graph_updates(user_input: str):\n",
    "    for event in graph.stream({\"messages\": [{\"role\": \"user\", \"content\": user_input}]}):\n",
    "        for value in event.values():\n",
    "            print(\"Assistant:\", value[\"messages\"][-1].content)\n",
    "\n",
    "\n",
    "while True:\n",
    "    try:\n",
    "        user_input = input(\"User: \")\n",
    "        if user_input.lower() in [\"quit\", \"exit\", \"q\"]:\n",
    "            print(\"Goodbye!\")\n",
    "            break\n",
    "        stream_graph_updates(user_input)\n",
    "    except:\n",
    "        # fallback if input() is not available\n",
    "        user_input = \"What do you know about LangGraph?\"\n",
    "        print(\"User: \" + user_input)\n",
    "        stream_graph_updates(user_input)\n",
    "        break"
   ]
  },
  {
   "cell_type": "code",
   "execution_count": null,
   "metadata": {},
   "outputs": [],
   "source": []
  },
  {
   "cell_type": "code",
   "execution_count": null,
   "metadata": {},
   "outputs": [],
   "source": []
  }
 ],
 "metadata": {
  "kernelspec": {
   "display_name": "base",
   "language": "python",
   "name": "python3"
  },
  "language_info": {
   "codemirror_mode": {
    "name": "ipython",
    "version": 3
   },
   "file_extension": ".py",
   "mimetype": "text/x-python",
   "name": "python",
   "nbconvert_exporter": "python",
   "pygments_lexer": "ipython3",
   "version": "3.12.0"
  }
 },
 "nbformat": 4,
 "nbformat_minor": 2
}
